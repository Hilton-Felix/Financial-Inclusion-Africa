{
 "cells": [
  {
   "cell_type": "code",
   "execution_count": 4,
   "metadata": {
    "id": "Dj5e4c8KIjjD"
   },
   "outputs": [],
   "source": [
    "import numpy as np\n",
    "import pandas as pd\n",
    "import matplotlib.pyplot as plt\n",
    "plt.rcParams['figure.figsize'] = (29, 10)\n",
    "plt.style.use('ggplot')\n",
    "import seaborn as sns\n",
    "\n",
    "\n",
    "from sklearn.model_selection import train_test_split\n",
    "\n",
    "\n",
    "%matplotlib inline\n",
    "plt.rcParams['axes.unicode_minus'] = False\n",
    "\n",
    "from scipy import stats\n",
    "from scipy.stats import norm\n",
    "\n",
    "from sklearn.preprocessing import StandardScaler\n",
    "from sklearn.pipeline import Pipeline\n",
    "\n",
    "\n",
    "from sklearn.linear_model import LogisticRegression\n",
    "from sklearn.svm import SVC\n",
    "from sklearn.tree import DecisionTreeClassifier\n",
    "from sklearn.neighbors import KNeighborsClassifier\n",
    "from sklearn.ensemble import RandomForestClassifier\n",
    "from xgboost import XGBClassifier\n",
    "\n",
    "\n",
    "from sklearn.metrics import accuracy_score\n",
    "from sklearn.metrics import f1_score\n",
    "from sklearn.metrics import confusion_matrix\n",
    "\n",
    "from sklearn.model_selection import cross_val_score"
   ]
  },
  {
   "cell_type": "code",
   "execution_count": 5,
   "metadata": {
    "id": "YIDZn_yjKIRJ"
   },
   "outputs": [],
   "source": [
    "# Your goal is to accurately predict the likelihood that an individual has a bank account or not, i.e. Yes = 1, No = 0."
   ]
  },
  {
   "cell_type": "code",
   "execution_count": 6,
   "metadata": {
    "id": "gov1SNpzJPlP"
   },
   "outputs": [],
   "source": [
    "train_df = pd.read_csv('Train_v2.csv')\n",
    "test_df = pd.read_csv('Test_v2.csv')\n",
    "submission_df = pd.read_csv('SubmissionFile.csv')"
   ]
  },
  {
   "cell_type": "code",
   "execution_count": 7,
   "metadata": {
    "colab": {
     "base_uri": "https://localhost:8080/",
     "height": 204
    },
    "id": "_DnQjikaKeeQ",
    "outputId": "42fdd3c6-b67a-4a82-d317-49b52f63b0dc"
   },
   "outputs": [
    {
     "data": {
      "text/html": [
       "<div>\n",
       "<style scoped>\n",
       "    .dataframe tbody tr th:only-of-type {\n",
       "        vertical-align: middle;\n",
       "    }\n",
       "\n",
       "    .dataframe tbody tr th {\n",
       "        vertical-align: top;\n",
       "    }\n",
       "\n",
       "    .dataframe thead th {\n",
       "        text-align: right;\n",
       "    }\n",
       "</style>\n",
       "<table border=\"1\" class=\"dataframe\">\n",
       "  <thead>\n",
       "    <tr style=\"text-align: right;\">\n",
       "      <th></th>\n",
       "      <th>country</th>\n",
       "      <th>year</th>\n",
       "      <th>uniqueid</th>\n",
       "      <th>bank_account</th>\n",
       "      <th>location_type</th>\n",
       "      <th>cellphone_access</th>\n",
       "      <th>household_size</th>\n",
       "      <th>age_of_respondent</th>\n",
       "      <th>gender_of_respondent</th>\n",
       "      <th>relationship_with_head</th>\n",
       "      <th>marital_status</th>\n",
       "      <th>education_level</th>\n",
       "      <th>job_type</th>\n",
       "    </tr>\n",
       "  </thead>\n",
       "  <tbody>\n",
       "    <tr>\n",
       "      <th>0</th>\n",
       "      <td>Kenya</td>\n",
       "      <td>2018</td>\n",
       "      <td>uniqueid_1</td>\n",
       "      <td>Yes</td>\n",
       "      <td>Rural</td>\n",
       "      <td>Yes</td>\n",
       "      <td>3</td>\n",
       "      <td>24</td>\n",
       "      <td>Female</td>\n",
       "      <td>Spouse</td>\n",
       "      <td>Married/Living together</td>\n",
       "      <td>Secondary education</td>\n",
       "      <td>Self employed</td>\n",
       "    </tr>\n",
       "    <tr>\n",
       "      <th>1</th>\n",
       "      <td>Kenya</td>\n",
       "      <td>2018</td>\n",
       "      <td>uniqueid_2</td>\n",
       "      <td>No</td>\n",
       "      <td>Rural</td>\n",
       "      <td>No</td>\n",
       "      <td>5</td>\n",
       "      <td>70</td>\n",
       "      <td>Female</td>\n",
       "      <td>Head of Household</td>\n",
       "      <td>Widowed</td>\n",
       "      <td>No formal education</td>\n",
       "      <td>Government Dependent</td>\n",
       "    </tr>\n",
       "    <tr>\n",
       "      <th>2</th>\n",
       "      <td>Kenya</td>\n",
       "      <td>2018</td>\n",
       "      <td>uniqueid_3</td>\n",
       "      <td>Yes</td>\n",
       "      <td>Urban</td>\n",
       "      <td>Yes</td>\n",
       "      <td>5</td>\n",
       "      <td>26</td>\n",
       "      <td>Male</td>\n",
       "      <td>Other relative</td>\n",
       "      <td>Single/Never Married</td>\n",
       "      <td>Vocational/Specialised training</td>\n",
       "      <td>Self employed</td>\n",
       "    </tr>\n",
       "    <tr>\n",
       "      <th>3</th>\n",
       "      <td>Kenya</td>\n",
       "      <td>2018</td>\n",
       "      <td>uniqueid_4</td>\n",
       "      <td>No</td>\n",
       "      <td>Rural</td>\n",
       "      <td>Yes</td>\n",
       "      <td>5</td>\n",
       "      <td>34</td>\n",
       "      <td>Female</td>\n",
       "      <td>Head of Household</td>\n",
       "      <td>Married/Living together</td>\n",
       "      <td>Primary education</td>\n",
       "      <td>Formally employed Private</td>\n",
       "    </tr>\n",
       "    <tr>\n",
       "      <th>4</th>\n",
       "      <td>Kenya</td>\n",
       "      <td>2018</td>\n",
       "      <td>uniqueid_5</td>\n",
       "      <td>No</td>\n",
       "      <td>Urban</td>\n",
       "      <td>No</td>\n",
       "      <td>8</td>\n",
       "      <td>26</td>\n",
       "      <td>Male</td>\n",
       "      <td>Child</td>\n",
       "      <td>Single/Never Married</td>\n",
       "      <td>Primary education</td>\n",
       "      <td>Informally employed</td>\n",
       "    </tr>\n",
       "  </tbody>\n",
       "</table>\n",
       "</div>"
      ],
      "text/plain": [
       "  country  year    uniqueid bank_account location_type cellphone_access  \\\n",
       "0   Kenya  2018  uniqueid_1          Yes         Rural              Yes   \n",
       "1   Kenya  2018  uniqueid_2           No         Rural               No   \n",
       "2   Kenya  2018  uniqueid_3          Yes         Urban              Yes   \n",
       "3   Kenya  2018  uniqueid_4           No         Rural              Yes   \n",
       "4   Kenya  2018  uniqueid_5           No         Urban               No   \n",
       "\n",
       "   household_size  age_of_respondent gender_of_respondent  \\\n",
       "0               3                 24               Female   \n",
       "1               5                 70               Female   \n",
       "2               5                 26                 Male   \n",
       "3               5                 34               Female   \n",
       "4               8                 26                 Male   \n",
       "\n",
       "  relationship_with_head           marital_status  \\\n",
       "0                 Spouse  Married/Living together   \n",
       "1      Head of Household                  Widowed   \n",
       "2         Other relative     Single/Never Married   \n",
       "3      Head of Household  Married/Living together   \n",
       "4                  Child     Single/Never Married   \n",
       "\n",
       "                   education_level                   job_type  \n",
       "0              Secondary education              Self employed  \n",
       "1              No formal education       Government Dependent  \n",
       "2  Vocational/Specialised training              Self employed  \n",
       "3                Primary education  Formally employed Private  \n",
       "4                Primary education        Informally employed  "
      ]
     },
     "execution_count": 7,
     "metadata": {},
     "output_type": "execute_result"
    }
   ],
   "source": [
    "train_df.head()"
   ]
  },
  {
   "cell_type": "code",
   "execution_count": 8,
   "metadata": {
    "colab": {
     "base_uri": "https://localhost:8080/",
     "height": 204
    },
    "id": "XoUjvZ5gKhrQ",
    "outputId": "cc2eda7b-3684-4234-f806-e315ef01c5bd"
   },
   "outputs": [
    {
     "data": {
      "text/html": [
       "<div>\n",
       "<style scoped>\n",
       "    .dataframe tbody tr th:only-of-type {\n",
       "        vertical-align: middle;\n",
       "    }\n",
       "\n",
       "    .dataframe tbody tr th {\n",
       "        vertical-align: top;\n",
       "    }\n",
       "\n",
       "    .dataframe thead th {\n",
       "        text-align: right;\n",
       "    }\n",
       "</style>\n",
       "<table border=\"1\" class=\"dataframe\">\n",
       "  <thead>\n",
       "    <tr style=\"text-align: right;\">\n",
       "      <th></th>\n",
       "      <th>country</th>\n",
       "      <th>year</th>\n",
       "      <th>uniqueid</th>\n",
       "      <th>location_type</th>\n",
       "      <th>cellphone_access</th>\n",
       "      <th>household_size</th>\n",
       "      <th>age_of_respondent</th>\n",
       "      <th>gender_of_respondent</th>\n",
       "      <th>relationship_with_head</th>\n",
       "      <th>marital_status</th>\n",
       "      <th>education_level</th>\n",
       "      <th>job_type</th>\n",
       "    </tr>\n",
       "  </thead>\n",
       "  <tbody>\n",
       "    <tr>\n",
       "      <th>0</th>\n",
       "      <td>Kenya</td>\n",
       "      <td>2018</td>\n",
       "      <td>uniqueid_6056</td>\n",
       "      <td>Urban</td>\n",
       "      <td>Yes</td>\n",
       "      <td>3</td>\n",
       "      <td>30</td>\n",
       "      <td>Male</td>\n",
       "      <td>Head of Household</td>\n",
       "      <td>Married/Living together</td>\n",
       "      <td>Secondary education</td>\n",
       "      <td>Formally employed Government</td>\n",
       "    </tr>\n",
       "    <tr>\n",
       "      <th>1</th>\n",
       "      <td>Kenya</td>\n",
       "      <td>2018</td>\n",
       "      <td>uniqueid_6060</td>\n",
       "      <td>Urban</td>\n",
       "      <td>Yes</td>\n",
       "      <td>7</td>\n",
       "      <td>51</td>\n",
       "      <td>Male</td>\n",
       "      <td>Head of Household</td>\n",
       "      <td>Married/Living together</td>\n",
       "      <td>Vocational/Specialised training</td>\n",
       "      <td>Formally employed Private</td>\n",
       "    </tr>\n",
       "    <tr>\n",
       "      <th>2</th>\n",
       "      <td>Kenya</td>\n",
       "      <td>2018</td>\n",
       "      <td>uniqueid_6065</td>\n",
       "      <td>Rural</td>\n",
       "      <td>No</td>\n",
       "      <td>3</td>\n",
       "      <td>77</td>\n",
       "      <td>Female</td>\n",
       "      <td>Parent</td>\n",
       "      <td>Married/Living together</td>\n",
       "      <td>No formal education</td>\n",
       "      <td>Remittance Dependent</td>\n",
       "    </tr>\n",
       "    <tr>\n",
       "      <th>3</th>\n",
       "      <td>Kenya</td>\n",
       "      <td>2018</td>\n",
       "      <td>uniqueid_6072</td>\n",
       "      <td>Rural</td>\n",
       "      <td>No</td>\n",
       "      <td>6</td>\n",
       "      <td>39</td>\n",
       "      <td>Female</td>\n",
       "      <td>Head of Household</td>\n",
       "      <td>Married/Living together</td>\n",
       "      <td>Primary education</td>\n",
       "      <td>Remittance Dependent</td>\n",
       "    </tr>\n",
       "    <tr>\n",
       "      <th>4</th>\n",
       "      <td>Kenya</td>\n",
       "      <td>2018</td>\n",
       "      <td>uniqueid_6073</td>\n",
       "      <td>Urban</td>\n",
       "      <td>No</td>\n",
       "      <td>3</td>\n",
       "      <td>16</td>\n",
       "      <td>Male</td>\n",
       "      <td>Child</td>\n",
       "      <td>Single/Never Married</td>\n",
       "      <td>Secondary education</td>\n",
       "      <td>Remittance Dependent</td>\n",
       "    </tr>\n",
       "  </tbody>\n",
       "</table>\n",
       "</div>"
      ],
      "text/plain": [
       "  country  year       uniqueid location_type cellphone_access  household_size  \\\n",
       "0   Kenya  2018  uniqueid_6056         Urban              Yes               3   \n",
       "1   Kenya  2018  uniqueid_6060         Urban              Yes               7   \n",
       "2   Kenya  2018  uniqueid_6065         Rural               No               3   \n",
       "3   Kenya  2018  uniqueid_6072         Rural               No               6   \n",
       "4   Kenya  2018  uniqueid_6073         Urban               No               3   \n",
       "\n",
       "   age_of_respondent gender_of_respondent relationship_with_head  \\\n",
       "0                 30                 Male      Head of Household   \n",
       "1                 51                 Male      Head of Household   \n",
       "2                 77               Female                 Parent   \n",
       "3                 39               Female      Head of Household   \n",
       "4                 16                 Male                  Child   \n",
       "\n",
       "            marital_status                  education_level  \\\n",
       "0  Married/Living together              Secondary education   \n",
       "1  Married/Living together  Vocational/Specialised training   \n",
       "2  Married/Living together              No formal education   \n",
       "3  Married/Living together                Primary education   \n",
       "4     Single/Never Married              Secondary education   \n",
       "\n",
       "                       job_type  \n",
       "0  Formally employed Government  \n",
       "1     Formally employed Private  \n",
       "2          Remittance Dependent  \n",
       "3          Remittance Dependent  \n",
       "4          Remittance Dependent  "
      ]
     },
     "execution_count": 8,
     "metadata": {},
     "output_type": "execute_result"
    }
   ],
   "source": [
    "test_df.head()"
   ]
  },
  {
   "cell_type": "code",
   "execution_count": 9,
   "metadata": {
    "colab": {
     "base_uri": "https://localhost:8080/"
    },
    "id": "0v4mivRsp1CJ",
    "outputId": "7e62341e-64d7-4255-b3c7-a7c769e030b8"
   },
   "outputs": [
    {
     "data": {
      "text/plain": [
       "((23524, 13), (10086, 12))"
      ]
     },
     "execution_count": 9,
     "metadata": {},
     "output_type": "execute_result"
    }
   ],
   "source": [
    "train_df.shape, test_df.shape"
   ]
  },
  {
   "cell_type": "code",
   "execution_count": 10,
   "metadata": {
    "colab": {
     "base_uri": "https://localhost:8080/"
    },
    "id": "QGv_dRH_JtlA",
    "outputId": "34680e37-5ad0-4a0d-9af4-cd0f1ca62ab9"
   },
   "outputs": [
    {
     "name": "stdout",
     "output_type": "stream",
     "text": [
      "<class 'pandas.core.frame.DataFrame'>\n",
      "RangeIndex: 23524 entries, 0 to 23523\n",
      "Data columns (total 13 columns):\n",
      " #   Column                  Non-Null Count  Dtype \n",
      "---  ------                  --------------  ----- \n",
      " 0   country                 23524 non-null  object\n",
      " 1   year                    23524 non-null  int64 \n",
      " 2   uniqueid                23524 non-null  object\n",
      " 3   bank_account            23524 non-null  object\n",
      " 4   location_type           23524 non-null  object\n",
      " 5   cellphone_access        23524 non-null  object\n",
      " 6   household_size          23524 non-null  int64 \n",
      " 7   age_of_respondent       23524 non-null  int64 \n",
      " 8   gender_of_respondent    23524 non-null  object\n",
      " 9   relationship_with_head  23524 non-null  object\n",
      " 10  marital_status          23524 non-null  object\n",
      " 11  education_level         23524 non-null  object\n",
      " 12  job_type                23524 non-null  object\n",
      "dtypes: int64(3), object(10)\n",
      "memory usage: 2.3+ MB\n"
     ]
    }
   ],
   "source": [
    "train_df.info()"
   ]
  },
  {
   "cell_type": "code",
   "execution_count": 11,
   "metadata": {
    "colab": {
     "base_uri": "https://localhost:8080/"
    },
    "id": "skCTzV0tKSaA",
    "outputId": "824ae0ba-c768-4af0-e705-641fcc0b4e96"
   },
   "outputs": [
    {
     "name": "stdout",
     "output_type": "stream",
     "text": [
      "<class 'pandas.core.frame.DataFrame'>\n",
      "RangeIndex: 10086 entries, 0 to 10085\n",
      "Data columns (total 12 columns):\n",
      " #   Column                  Non-Null Count  Dtype \n",
      "---  ------                  --------------  ----- \n",
      " 0   country                 10086 non-null  object\n",
      " 1   year                    10086 non-null  int64 \n",
      " 2   uniqueid                10086 non-null  object\n",
      " 3   location_type           10086 non-null  object\n",
      " 4   cellphone_access        10086 non-null  object\n",
      " 5   household_size          10086 non-null  int64 \n",
      " 6   age_of_respondent       10086 non-null  int64 \n",
      " 7   gender_of_respondent    10086 non-null  object\n",
      " 8   relationship_with_head  10086 non-null  object\n",
      " 9   marital_status          10086 non-null  object\n",
      " 10  education_level         10086 non-null  object\n",
      " 11  job_type                10086 non-null  object\n",
      "dtypes: int64(3), object(9)\n",
      "memory usage: 945.7+ KB\n"
     ]
    }
   ],
   "source": [
    "test_df.info()"
   ]
  },
  {
   "cell_type": "code",
   "execution_count": 12,
   "metadata": {
    "colab": {
     "base_uri": "https://localhost:8080/"
    },
    "id": "0OTIIjE1KU6b",
    "outputId": "c4f8e0e2-1d7e-4246-b6c0-713a22837aba"
   },
   "outputs": [
    {
     "data": {
      "text/plain": [
       "country                   0\n",
       "year                      0\n",
       "uniqueid                  0\n",
       "bank_account              0\n",
       "location_type             0\n",
       "cellphone_access          0\n",
       "household_size            0\n",
       "age_of_respondent         0\n",
       "gender_of_respondent      0\n",
       "relationship_with_head    0\n",
       "marital_status            0\n",
       "education_level           0\n",
       "job_type                  0\n",
       "dtype: int64"
      ]
     },
     "execution_count": 12,
     "metadata": {},
     "output_type": "execute_result"
    }
   ],
   "source": [
    "# check for missing values in training set\n",
    "train_df.isnull().sum()"
   ]
  },
  {
   "cell_type": "code",
   "execution_count": 13,
   "metadata": {
    "colab": {
     "base_uri": "https://localhost:8080/"
    },
    "id": "C3UPdjRZSCM6",
    "outputId": "c66c1bdc-c8fb-4955-c70c-80e750e7995b"
   },
   "outputs": [
    {
     "data": {
      "text/plain": [
       "country                   0\n",
       "year                      0\n",
       "uniqueid                  0\n",
       "location_type             0\n",
       "cellphone_access          0\n",
       "household_size            0\n",
       "age_of_respondent         0\n",
       "gender_of_respondent      0\n",
       "relationship_with_head    0\n",
       "marital_status            0\n",
       "education_level           0\n",
       "job_type                  0\n",
       "dtype: int64"
      ]
     },
     "execution_count": 13,
     "metadata": {},
     "output_type": "execute_result"
    }
   ],
   "source": [
    "# check for missing values in test set\n",
    "test_df.isnull().sum()"
   ]
  },
  {
   "cell_type": "code",
   "execution_count": 14,
   "metadata": {
    "colab": {
     "base_uri": "https://localhost:8080/"
    },
    "id": "mIGnlKcpSIa5",
    "outputId": "66297b2a-b3c3-49be-f1f7-da08664208ed"
   },
   "outputs": [
    {
     "data": {
      "text/plain": [
       "((33610, 13), 23524)"
      ]
     },
     "execution_count": 14,
     "metadata": {},
     "output_type": "execute_result"
    }
   ],
   "source": [
    "# combine training and test set for easy preprocessing\n",
    "ntrain = train_df.shape[0] # training set \n",
    "df_combined = pd.concat([train_df, test_df]).reset_index(drop=True)\n",
    "df_combined.shape, ntrain"
   ]
  },
  {
   "cell_type": "code",
   "execution_count": 15,
   "metadata": {
    "colab": {
     "base_uri": "https://localhost:8080/",
     "height": 204
    },
    "id": "BX41MDZ6SPYd",
    "outputId": "d4f16768-0266-4e2e-df6a-d2bfcecb5572"
   },
   "outputs": [
    {
     "data": {
      "text/html": [
       "<div>\n",
       "<style scoped>\n",
       "    .dataframe tbody tr th:only-of-type {\n",
       "        vertical-align: middle;\n",
       "    }\n",
       "\n",
       "    .dataframe tbody tr th {\n",
       "        vertical-align: top;\n",
       "    }\n",
       "\n",
       "    .dataframe thead th {\n",
       "        text-align: right;\n",
       "    }\n",
       "</style>\n",
       "<table border=\"1\" class=\"dataframe\">\n",
       "  <thead>\n",
       "    <tr style=\"text-align: right;\">\n",
       "      <th></th>\n",
       "      <th>country</th>\n",
       "      <th>year</th>\n",
       "      <th>uniqueid</th>\n",
       "      <th>bank_account</th>\n",
       "      <th>location_type</th>\n",
       "      <th>cellphone_access</th>\n",
       "      <th>household_size</th>\n",
       "      <th>age_of_respondent</th>\n",
       "      <th>gender_of_respondent</th>\n",
       "      <th>relationship_with_head</th>\n",
       "      <th>marital_status</th>\n",
       "      <th>education_level</th>\n",
       "      <th>job_type</th>\n",
       "    </tr>\n",
       "  </thead>\n",
       "  <tbody>\n",
       "    <tr>\n",
       "      <th>0</th>\n",
       "      <td>Kenya</td>\n",
       "      <td>2018</td>\n",
       "      <td>uniqueid_1</td>\n",
       "      <td>Yes</td>\n",
       "      <td>Rural</td>\n",
       "      <td>Yes</td>\n",
       "      <td>3</td>\n",
       "      <td>24</td>\n",
       "      <td>Female</td>\n",
       "      <td>Spouse</td>\n",
       "      <td>Married/Living together</td>\n",
       "      <td>Secondary education</td>\n",
       "      <td>Self employed</td>\n",
       "    </tr>\n",
       "    <tr>\n",
       "      <th>1</th>\n",
       "      <td>Kenya</td>\n",
       "      <td>2018</td>\n",
       "      <td>uniqueid_2</td>\n",
       "      <td>No</td>\n",
       "      <td>Rural</td>\n",
       "      <td>No</td>\n",
       "      <td>5</td>\n",
       "      <td>70</td>\n",
       "      <td>Female</td>\n",
       "      <td>Head of Household</td>\n",
       "      <td>Widowed</td>\n",
       "      <td>No formal education</td>\n",
       "      <td>Government Dependent</td>\n",
       "    </tr>\n",
       "    <tr>\n",
       "      <th>2</th>\n",
       "      <td>Kenya</td>\n",
       "      <td>2018</td>\n",
       "      <td>uniqueid_3</td>\n",
       "      <td>Yes</td>\n",
       "      <td>Urban</td>\n",
       "      <td>Yes</td>\n",
       "      <td>5</td>\n",
       "      <td>26</td>\n",
       "      <td>Male</td>\n",
       "      <td>Other relative</td>\n",
       "      <td>Single/Never Married</td>\n",
       "      <td>Vocational/Specialised training</td>\n",
       "      <td>Self employed</td>\n",
       "    </tr>\n",
       "    <tr>\n",
       "      <th>3</th>\n",
       "      <td>Kenya</td>\n",
       "      <td>2018</td>\n",
       "      <td>uniqueid_4</td>\n",
       "      <td>No</td>\n",
       "      <td>Rural</td>\n",
       "      <td>Yes</td>\n",
       "      <td>5</td>\n",
       "      <td>34</td>\n",
       "      <td>Female</td>\n",
       "      <td>Head of Household</td>\n",
       "      <td>Married/Living together</td>\n",
       "      <td>Primary education</td>\n",
       "      <td>Formally employed Private</td>\n",
       "    </tr>\n",
       "    <tr>\n",
       "      <th>4</th>\n",
       "      <td>Kenya</td>\n",
       "      <td>2018</td>\n",
       "      <td>uniqueid_5</td>\n",
       "      <td>No</td>\n",
       "      <td>Urban</td>\n",
       "      <td>No</td>\n",
       "      <td>8</td>\n",
       "      <td>26</td>\n",
       "      <td>Male</td>\n",
       "      <td>Child</td>\n",
       "      <td>Single/Never Married</td>\n",
       "      <td>Primary education</td>\n",
       "      <td>Informally employed</td>\n",
       "    </tr>\n",
       "  </tbody>\n",
       "</table>\n",
       "</div>"
      ],
      "text/plain": [
       "  country  year    uniqueid bank_account location_type cellphone_access  \\\n",
       "0   Kenya  2018  uniqueid_1          Yes         Rural              Yes   \n",
       "1   Kenya  2018  uniqueid_2           No         Rural               No   \n",
       "2   Kenya  2018  uniqueid_3          Yes         Urban              Yes   \n",
       "3   Kenya  2018  uniqueid_4           No         Rural              Yes   \n",
       "4   Kenya  2018  uniqueid_5           No         Urban               No   \n",
       "\n",
       "   household_size  age_of_respondent gender_of_respondent  \\\n",
       "0               3                 24               Female   \n",
       "1               5                 70               Female   \n",
       "2               5                 26                 Male   \n",
       "3               5                 34               Female   \n",
       "4               8                 26                 Male   \n",
       "\n",
       "  relationship_with_head           marital_status  \\\n",
       "0                 Spouse  Married/Living together   \n",
       "1      Head of Household                  Widowed   \n",
       "2         Other relative     Single/Never Married   \n",
       "3      Head of Household  Married/Living together   \n",
       "4                  Child     Single/Never Married   \n",
       "\n",
       "                   education_level                   job_type  \n",
       "0              Secondary education              Self employed  \n",
       "1              No formal education       Government Dependent  \n",
       "2  Vocational/Specialised training              Self employed  \n",
       "3                Primary education  Formally employed Private  \n",
       "4                Primary education        Informally employed  "
      ]
     },
     "execution_count": 15,
     "metadata": {},
     "output_type": "execute_result"
    }
   ],
   "source": [
    "df_combined.head()"
   ]
  },
  {
   "cell_type": "markdown",
   "metadata": {
    "id": "ugfO4_8tTiMn"
   },
   "source": [
    "**DATA PREPROCESSING**"
   ]
  },
  {
   "cell_type": "code",
   "execution_count": 16,
   "metadata": {
    "id": "5J5jeYMnT05z"
   },
   "outputs": [],
   "source": [
    "# drop the uniqueid column\n",
    "df_combined.drop(['uniqueid', 'year'], axis=1, inplace=True)"
   ]
  },
  {
   "cell_type": "code",
   "execution_count": 17,
   "metadata": {
    "colab": {
     "base_uri": "https://localhost:8080/"
    },
    "id": "Y3Fw74vvsENW",
    "outputId": "c64d0cbc-778a-4d70-e698-24adca3d9726"
   },
   "outputs": [
    {
     "name": "stdout",
     "output_type": "stream",
     "text": [
      "Column name: *country* has *4* unique values\n",
      "\n",
      "Column name: *bank_account* has *2* unique values\n",
      "\n",
      "Column name: *location_type* has *2* unique values\n",
      "\n",
      "Column name: *cellphone_access* has *2* unique values\n",
      "\n",
      "Column name: *gender_of_respondent* has *2* unique values\n",
      "\n",
      "Column name: *relationship_with_head* has *6* unique values\n",
      "\n",
      "Column name: *marital_status* has *5* unique values\n",
      "\n",
      "Column name: *education_level* has *6* unique values\n",
      "\n",
      "Column name: *job_type* has *10* unique values\n",
      "\n"
     ]
    }
   ],
   "source": [
    "for i in df_combined.select_dtypes(include='object').columns:\n",
    "  print('Column name: *{}* has *{}* unique values\\n'.format(i, df_combined[i].nunique()))"
   ]
  },
  {
   "cell_type": "code",
   "execution_count": 18,
   "metadata": {
    "id": "boMqyv9pdC4I"
   },
   "outputs": [],
   "source": [
    "## Label Encoder(encode only values with 2 unique values; the rest will be done using ColumnTransformer later on the Notebook)\n",
    "from sklearn.preprocessing import LabelEncoder, OneHotEncoder\n",
    "\n",
    "le = LabelEncoder()\n",
    "df_combined['location_type'] = le.fit_transform(df_combined['location_type'])\n",
    "df_combined['cellphone_access'] = le.fit_transform(df_combined['cellphone_access'])\n",
    "df_combined['gender_of_respondent'] = le.fit_transform(df_combined['gender_of_respondent'])\n",
    "df_combined['gender_of_respondent'] = le.fit_transform(df_combined['gender_of_respondent'])"
   ]
  },
  {
   "cell_type": "code",
   "execution_count": 19,
   "metadata": {
    "colab": {
     "base_uri": "https://localhost:8080/",
     "height": 419
    },
    "id": "FmDDP4breqkd",
    "outputId": "668dce65-e748-475a-d0ea-cf06a5ad275a"
   },
   "outputs": [
    {
     "data": {
      "text/html": [
       "<div>\n",
       "<style scoped>\n",
       "    .dataframe tbody tr th:only-of-type {\n",
       "        vertical-align: middle;\n",
       "    }\n",
       "\n",
       "    .dataframe tbody tr th {\n",
       "        vertical-align: top;\n",
       "    }\n",
       "\n",
       "    .dataframe thead th {\n",
       "        text-align: right;\n",
       "    }\n",
       "</style>\n",
       "<table border=\"1\" class=\"dataframe\">\n",
       "  <thead>\n",
       "    <tr style=\"text-align: right;\">\n",
       "      <th></th>\n",
       "      <th>country</th>\n",
       "      <th>bank_account</th>\n",
       "      <th>location_type</th>\n",
       "      <th>cellphone_access</th>\n",
       "      <th>household_size</th>\n",
       "      <th>age_of_respondent</th>\n",
       "      <th>gender_of_respondent</th>\n",
       "      <th>relationship_with_head</th>\n",
       "      <th>marital_status</th>\n",
       "      <th>education_level</th>\n",
       "      <th>job_type</th>\n",
       "    </tr>\n",
       "  </thead>\n",
       "  <tbody>\n",
       "    <tr>\n",
       "      <th>0</th>\n",
       "      <td>Kenya</td>\n",
       "      <td>Yes</td>\n",
       "      <td>0</td>\n",
       "      <td>1</td>\n",
       "      <td>3</td>\n",
       "      <td>24</td>\n",
       "      <td>0</td>\n",
       "      <td>Spouse</td>\n",
       "      <td>Married/Living together</td>\n",
       "      <td>Secondary education</td>\n",
       "      <td>Self employed</td>\n",
       "    </tr>\n",
       "    <tr>\n",
       "      <th>1</th>\n",
       "      <td>Kenya</td>\n",
       "      <td>No</td>\n",
       "      <td>0</td>\n",
       "      <td>0</td>\n",
       "      <td>5</td>\n",
       "      <td>70</td>\n",
       "      <td>0</td>\n",
       "      <td>Head of Household</td>\n",
       "      <td>Widowed</td>\n",
       "      <td>No formal education</td>\n",
       "      <td>Government Dependent</td>\n",
       "    </tr>\n",
       "    <tr>\n",
       "      <th>2</th>\n",
       "      <td>Kenya</td>\n",
       "      <td>Yes</td>\n",
       "      <td>1</td>\n",
       "      <td>1</td>\n",
       "      <td>5</td>\n",
       "      <td>26</td>\n",
       "      <td>1</td>\n",
       "      <td>Other relative</td>\n",
       "      <td>Single/Never Married</td>\n",
       "      <td>Vocational/Specialised training</td>\n",
       "      <td>Self employed</td>\n",
       "    </tr>\n",
       "    <tr>\n",
       "      <th>3</th>\n",
       "      <td>Kenya</td>\n",
       "      <td>No</td>\n",
       "      <td>0</td>\n",
       "      <td>1</td>\n",
       "      <td>5</td>\n",
       "      <td>34</td>\n",
       "      <td>0</td>\n",
       "      <td>Head of Household</td>\n",
       "      <td>Married/Living together</td>\n",
       "      <td>Primary education</td>\n",
       "      <td>Formally employed Private</td>\n",
       "    </tr>\n",
       "    <tr>\n",
       "      <th>4</th>\n",
       "      <td>Kenya</td>\n",
       "      <td>No</td>\n",
       "      <td>1</td>\n",
       "      <td>0</td>\n",
       "      <td>8</td>\n",
       "      <td>26</td>\n",
       "      <td>1</td>\n",
       "      <td>Child</td>\n",
       "      <td>Single/Never Married</td>\n",
       "      <td>Primary education</td>\n",
       "      <td>Informally employed</td>\n",
       "    </tr>\n",
       "    <tr>\n",
       "      <th>...</th>\n",
       "      <td>...</td>\n",
       "      <td>...</td>\n",
       "      <td>...</td>\n",
       "      <td>...</td>\n",
       "      <td>...</td>\n",
       "      <td>...</td>\n",
       "      <td>...</td>\n",
       "      <td>...</td>\n",
       "      <td>...</td>\n",
       "      <td>...</td>\n",
       "      <td>...</td>\n",
       "    </tr>\n",
       "    <tr>\n",
       "      <th>33605</th>\n",
       "      <td>Uganda</td>\n",
       "      <td>NaN</td>\n",
       "      <td>0</td>\n",
       "      <td>0</td>\n",
       "      <td>2</td>\n",
       "      <td>62</td>\n",
       "      <td>0</td>\n",
       "      <td>Spouse</td>\n",
       "      <td>Married/Living together</td>\n",
       "      <td>Primary education</td>\n",
       "      <td>Self employed</td>\n",
       "    </tr>\n",
       "    <tr>\n",
       "      <th>33606</th>\n",
       "      <td>Uganda</td>\n",
       "      <td>NaN</td>\n",
       "      <td>1</td>\n",
       "      <td>1</td>\n",
       "      <td>8</td>\n",
       "      <td>42</td>\n",
       "      <td>1</td>\n",
       "      <td>Head of Household</td>\n",
       "      <td>Married/Living together</td>\n",
       "      <td>Primary education</td>\n",
       "      <td>Self employed</td>\n",
       "    </tr>\n",
       "    <tr>\n",
       "      <th>33607</th>\n",
       "      <td>Uganda</td>\n",
       "      <td>NaN</td>\n",
       "      <td>1</td>\n",
       "      <td>1</td>\n",
       "      <td>1</td>\n",
       "      <td>39</td>\n",
       "      <td>1</td>\n",
       "      <td>Head of Household</td>\n",
       "      <td>Single/Never Married</td>\n",
       "      <td>Secondary education</td>\n",
       "      <td>Other Income</td>\n",
       "    </tr>\n",
       "    <tr>\n",
       "      <th>33608</th>\n",
       "      <td>Uganda</td>\n",
       "      <td>NaN</td>\n",
       "      <td>0</td>\n",
       "      <td>1</td>\n",
       "      <td>6</td>\n",
       "      <td>28</td>\n",
       "      <td>0</td>\n",
       "      <td>Spouse</td>\n",
       "      <td>Married/Living together</td>\n",
       "      <td>Primary education</td>\n",
       "      <td>Self employed</td>\n",
       "    </tr>\n",
       "    <tr>\n",
       "      <th>33609</th>\n",
       "      <td>Uganda</td>\n",
       "      <td>NaN</td>\n",
       "      <td>1</td>\n",
       "      <td>1</td>\n",
       "      <td>7</td>\n",
       "      <td>16</td>\n",
       "      <td>1</td>\n",
       "      <td>Other relative</td>\n",
       "      <td>Single/Never Married</td>\n",
       "      <td>Secondary education</td>\n",
       "      <td>Other Income</td>\n",
       "    </tr>\n",
       "  </tbody>\n",
       "</table>\n",
       "<p>33610 rows × 11 columns</p>\n",
       "</div>"
      ],
      "text/plain": [
       "      country bank_account  location_type  cellphone_access  household_size  \\\n",
       "0       Kenya          Yes              0                 1               3   \n",
       "1       Kenya           No              0                 0               5   \n",
       "2       Kenya          Yes              1                 1               5   \n",
       "3       Kenya           No              0                 1               5   \n",
       "4       Kenya           No              1                 0               8   \n",
       "...       ...          ...            ...               ...             ...   \n",
       "33605  Uganda          NaN              0                 0               2   \n",
       "33606  Uganda          NaN              1                 1               8   \n",
       "33607  Uganda          NaN              1                 1               1   \n",
       "33608  Uganda          NaN              0                 1               6   \n",
       "33609  Uganda          NaN              1                 1               7   \n",
       "\n",
       "       age_of_respondent  gender_of_respondent relationship_with_head  \\\n",
       "0                     24                     0                 Spouse   \n",
       "1                     70                     0      Head of Household   \n",
       "2                     26                     1         Other relative   \n",
       "3                     34                     0      Head of Household   \n",
       "4                     26                     1                  Child   \n",
       "...                  ...                   ...                    ...   \n",
       "33605                 62                     0                 Spouse   \n",
       "33606                 42                     1      Head of Household   \n",
       "33607                 39                     1      Head of Household   \n",
       "33608                 28                     0                 Spouse   \n",
       "33609                 16                     1         Other relative   \n",
       "\n",
       "                marital_status                  education_level  \\\n",
       "0      Married/Living together              Secondary education   \n",
       "1                      Widowed              No formal education   \n",
       "2         Single/Never Married  Vocational/Specialised training   \n",
       "3      Married/Living together                Primary education   \n",
       "4         Single/Never Married                Primary education   \n",
       "...                        ...                              ...   \n",
       "33605  Married/Living together                Primary education   \n",
       "33606  Married/Living together                Primary education   \n",
       "33607     Single/Never Married              Secondary education   \n",
       "33608  Married/Living together                Primary education   \n",
       "33609     Single/Never Married              Secondary education   \n",
       "\n",
       "                        job_type  \n",
       "0                  Self employed  \n",
       "1           Government Dependent  \n",
       "2                  Self employed  \n",
       "3      Formally employed Private  \n",
       "4            Informally employed  \n",
       "...                          ...  \n",
       "33605              Self employed  \n",
       "33606              Self employed  \n",
       "33607               Other Income  \n",
       "33608              Self employed  \n",
       "33609               Other Income  \n",
       "\n",
       "[33610 rows x 11 columns]"
      ]
     },
     "execution_count": 19,
     "metadata": {},
     "output_type": "execute_result"
    }
   ],
   "source": [
    "df_combined"
   ]
  },
  {
   "cell_type": "code",
   "execution_count": 65,
   "metadata": {
    "colab": {
     "base_uri": "https://localhost:8080/",
     "height": 419
    },
    "id": "yLCI1JW6mss9",
    "outputId": "29ecd8fe-4c93-42cb-e096-c35fc4979e58"
   },
   "outputs": [
    {
     "data": {
      "text/html": [
       "<div>\n",
       "<style scoped>\n",
       "    .dataframe tbody tr th:only-of-type {\n",
       "        vertical-align: middle;\n",
       "    }\n",
       "\n",
       "    .dataframe tbody tr th {\n",
       "        vertical-align: top;\n",
       "    }\n",
       "\n",
       "    .dataframe thead th {\n",
       "        text-align: right;\n",
       "    }\n",
       "</style>\n",
       "<table border=\"1\" class=\"dataframe\">\n",
       "  <thead>\n",
       "    <tr style=\"text-align: right;\">\n",
       "      <th></th>\n",
       "      <th>age_of_respondent</th>\n",
       "      <th>cellphone_access</th>\n",
       "      <th>country</th>\n",
       "      <th>education_level</th>\n",
       "      <th>gender_of_respondent</th>\n",
       "      <th>household_size</th>\n",
       "      <th>job_type</th>\n",
       "      <th>location_type</th>\n",
       "      <th>marital_status</th>\n",
       "      <th>relationship_with_head</th>\n",
       "    </tr>\n",
       "  </thead>\n",
       "  <tbody>\n",
       "    <tr>\n",
       "      <th>23524</th>\n",
       "      <td>30</td>\n",
       "      <td>1</td>\n",
       "      <td>Kenya</td>\n",
       "      <td>Secondary education</td>\n",
       "      <td>1</td>\n",
       "      <td>3</td>\n",
       "      <td>Formally employed Government</td>\n",
       "      <td>1</td>\n",
       "      <td>Married/Living together</td>\n",
       "      <td>Head of Household</td>\n",
       "    </tr>\n",
       "    <tr>\n",
       "      <th>23525</th>\n",
       "      <td>51</td>\n",
       "      <td>1</td>\n",
       "      <td>Kenya</td>\n",
       "      <td>Vocational/Specialised training</td>\n",
       "      <td>1</td>\n",
       "      <td>7</td>\n",
       "      <td>Formally employed Private</td>\n",
       "      <td>1</td>\n",
       "      <td>Married/Living together</td>\n",
       "      <td>Head of Household</td>\n",
       "    </tr>\n",
       "    <tr>\n",
       "      <th>23526</th>\n",
       "      <td>77</td>\n",
       "      <td>0</td>\n",
       "      <td>Kenya</td>\n",
       "      <td>No formal education</td>\n",
       "      <td>0</td>\n",
       "      <td>3</td>\n",
       "      <td>Remittance Dependent</td>\n",
       "      <td>0</td>\n",
       "      <td>Married/Living together</td>\n",
       "      <td>Parent</td>\n",
       "    </tr>\n",
       "    <tr>\n",
       "      <th>23527</th>\n",
       "      <td>39</td>\n",
       "      <td>0</td>\n",
       "      <td>Kenya</td>\n",
       "      <td>Primary education</td>\n",
       "      <td>0</td>\n",
       "      <td>6</td>\n",
       "      <td>Remittance Dependent</td>\n",
       "      <td>0</td>\n",
       "      <td>Married/Living together</td>\n",
       "      <td>Head of Household</td>\n",
       "    </tr>\n",
       "    <tr>\n",
       "      <th>23528</th>\n",
       "      <td>16</td>\n",
       "      <td>0</td>\n",
       "      <td>Kenya</td>\n",
       "      <td>Secondary education</td>\n",
       "      <td>1</td>\n",
       "      <td>3</td>\n",
       "      <td>Remittance Dependent</td>\n",
       "      <td>1</td>\n",
       "      <td>Single/Never Married</td>\n",
       "      <td>Child</td>\n",
       "    </tr>\n",
       "    <tr>\n",
       "      <th>...</th>\n",
       "      <td>...</td>\n",
       "      <td>...</td>\n",
       "      <td>...</td>\n",
       "      <td>...</td>\n",
       "      <td>...</td>\n",
       "      <td>...</td>\n",
       "      <td>...</td>\n",
       "      <td>...</td>\n",
       "      <td>...</td>\n",
       "      <td>...</td>\n",
       "    </tr>\n",
       "    <tr>\n",
       "      <th>33605</th>\n",
       "      <td>62</td>\n",
       "      <td>0</td>\n",
       "      <td>Uganda</td>\n",
       "      <td>Primary education</td>\n",
       "      <td>0</td>\n",
       "      <td>2</td>\n",
       "      <td>Self employed</td>\n",
       "      <td>0</td>\n",
       "      <td>Married/Living together</td>\n",
       "      <td>Spouse</td>\n",
       "    </tr>\n",
       "    <tr>\n",
       "      <th>33606</th>\n",
       "      <td>42</td>\n",
       "      <td>1</td>\n",
       "      <td>Uganda</td>\n",
       "      <td>Primary education</td>\n",
       "      <td>1</td>\n",
       "      <td>8</td>\n",
       "      <td>Self employed</td>\n",
       "      <td>1</td>\n",
       "      <td>Married/Living together</td>\n",
       "      <td>Head of Household</td>\n",
       "    </tr>\n",
       "    <tr>\n",
       "      <th>33607</th>\n",
       "      <td>39</td>\n",
       "      <td>1</td>\n",
       "      <td>Uganda</td>\n",
       "      <td>Secondary education</td>\n",
       "      <td>1</td>\n",
       "      <td>1</td>\n",
       "      <td>Other Income</td>\n",
       "      <td>1</td>\n",
       "      <td>Single/Never Married</td>\n",
       "      <td>Head of Household</td>\n",
       "    </tr>\n",
       "    <tr>\n",
       "      <th>33608</th>\n",
       "      <td>28</td>\n",
       "      <td>1</td>\n",
       "      <td>Uganda</td>\n",
       "      <td>Primary education</td>\n",
       "      <td>0</td>\n",
       "      <td>6</td>\n",
       "      <td>Self employed</td>\n",
       "      <td>0</td>\n",
       "      <td>Married/Living together</td>\n",
       "      <td>Spouse</td>\n",
       "    </tr>\n",
       "    <tr>\n",
       "      <th>33609</th>\n",
       "      <td>16</td>\n",
       "      <td>1</td>\n",
       "      <td>Uganda</td>\n",
       "      <td>Secondary education</td>\n",
       "      <td>1</td>\n",
       "      <td>7</td>\n",
       "      <td>Other Income</td>\n",
       "      <td>1</td>\n",
       "      <td>Single/Never Married</td>\n",
       "      <td>Other relative</td>\n",
       "    </tr>\n",
       "  </tbody>\n",
       "</table>\n",
       "<p>10086 rows × 10 columns</p>\n",
       "</div>"
      ],
      "text/plain": [
       "       age_of_respondent  cellphone_access country  \\\n",
       "23524                 30                 1   Kenya   \n",
       "23525                 51                 1   Kenya   \n",
       "23526                 77                 0   Kenya   \n",
       "23527                 39                 0   Kenya   \n",
       "23528                 16                 0   Kenya   \n",
       "...                  ...               ...     ...   \n",
       "33605                 62                 0  Uganda   \n",
       "33606                 42                 1  Uganda   \n",
       "33607                 39                 1  Uganda   \n",
       "33608                 28                 1  Uganda   \n",
       "33609                 16                 1  Uganda   \n",
       "\n",
       "                       education_level  gender_of_respondent  household_size  \\\n",
       "23524              Secondary education                     1               3   \n",
       "23525  Vocational/Specialised training                     1               7   \n",
       "23526              No formal education                     0               3   \n",
       "23527                Primary education                     0               6   \n",
       "23528              Secondary education                     1               3   \n",
       "...                                ...                   ...             ...   \n",
       "33605                Primary education                     0               2   \n",
       "33606                Primary education                     1               8   \n",
       "33607              Secondary education                     1               1   \n",
       "33608                Primary education                     0               6   \n",
       "33609              Secondary education                     1               7   \n",
       "\n",
       "                           job_type  location_type           marital_status  \\\n",
       "23524  Formally employed Government              1  Married/Living together   \n",
       "23525     Formally employed Private              1  Married/Living together   \n",
       "23526          Remittance Dependent              0  Married/Living together   \n",
       "23527          Remittance Dependent              0  Married/Living together   \n",
       "23528          Remittance Dependent              1     Single/Never Married   \n",
       "...                             ...            ...                      ...   \n",
       "33605                 Self employed              0  Married/Living together   \n",
       "33606                 Self employed              1  Married/Living together   \n",
       "33607                  Other Income              1     Single/Never Married   \n",
       "33608                 Self employed              0  Married/Living together   \n",
       "33609                  Other Income              1     Single/Never Married   \n",
       "\n",
       "      relationship_with_head  \n",
       "23524      Head of Household  \n",
       "23525      Head of Household  \n",
       "23526                 Parent  \n",
       "23527      Head of Household  \n",
       "23528                  Child  \n",
       "...                      ...  \n",
       "33605                 Spouse  \n",
       "33606      Head of Household  \n",
       "33607      Head of Household  \n",
       "33608                 Spouse  \n",
       "33609         Other relative  \n",
       "\n",
       "[10086 rows x 10 columns]"
      ]
     },
     "execution_count": 65,
     "metadata": {},
     "output_type": "execute_result"
    }
   ],
   "source": [
    "train_set = df_combined.iloc[:ntrain]\n",
    "test_set = df_combined.iloc[ntrain:]\n",
    "\n",
    "test_set_features = test_set.columns.difference(['bank_account']) # remove bank_account column from test_set\n",
    "test_set = test_set[test_set_features]\n",
    "test_set"
   ]
  },
  {
   "cell_type": "code",
   "execution_count": 66,
   "metadata": {
    "id": "WYUsvhsPpAvE"
   },
   "outputs": [],
   "source": [
    "# Independent and Dependent variables\n",
    "features = train_set.columns.difference(['bank_account'])\n",
    "X = train_set[features].values\n",
    "y = le.fit_transform(train_set['bank_account'].values)"
   ]
  },
  {
   "cell_type": "markdown",
   "metadata": {
    "id": "iNzQDyxSu3Nw"
   },
   "source": [
    "**Encode Categorical Variables**\n",
    "\n",
    "\n",
    "\n"
   ]
  },
  {
   "cell_type": "code",
   "execution_count": 67,
   "metadata": {
    "colab": {
     "base_uri": "https://localhost:8080/",
     "height": 419
    },
    "id": "CUHx_RqsvDlJ",
    "outputId": "3634e851-165d-4344-d036-cf0de7f16d89"
   },
   "outputs": [
    {
     "data": {
      "text/html": [
       "<div>\n",
       "<style scoped>\n",
       "    .dataframe tbody tr th:only-of-type {\n",
       "        vertical-align: middle;\n",
       "    }\n",
       "\n",
       "    .dataframe tbody tr th {\n",
       "        vertical-align: top;\n",
       "    }\n",
       "\n",
       "    .dataframe thead th {\n",
       "        text-align: right;\n",
       "    }\n",
       "</style>\n",
       "<table border=\"1\" class=\"dataframe\">\n",
       "  <thead>\n",
       "    <tr style=\"text-align: right;\">\n",
       "      <th></th>\n",
       "      <th>0</th>\n",
       "      <th>1</th>\n",
       "      <th>2</th>\n",
       "      <th>3</th>\n",
       "      <th>4</th>\n",
       "      <th>5</th>\n",
       "      <th>6</th>\n",
       "      <th>7</th>\n",
       "      <th>8</th>\n",
       "      <th>9</th>\n",
       "    </tr>\n",
       "  </thead>\n",
       "  <tbody>\n",
       "    <tr>\n",
       "      <th>0</th>\n",
       "      <td>24</td>\n",
       "      <td>1</td>\n",
       "      <td>Kenya</td>\n",
       "      <td>Secondary education</td>\n",
       "      <td>0</td>\n",
       "      <td>3</td>\n",
       "      <td>Self employed</td>\n",
       "      <td>0</td>\n",
       "      <td>Married/Living together</td>\n",
       "      <td>Spouse</td>\n",
       "    </tr>\n",
       "    <tr>\n",
       "      <th>1</th>\n",
       "      <td>70</td>\n",
       "      <td>0</td>\n",
       "      <td>Kenya</td>\n",
       "      <td>No formal education</td>\n",
       "      <td>0</td>\n",
       "      <td>5</td>\n",
       "      <td>Government Dependent</td>\n",
       "      <td>0</td>\n",
       "      <td>Widowed</td>\n",
       "      <td>Head of Household</td>\n",
       "    </tr>\n",
       "    <tr>\n",
       "      <th>2</th>\n",
       "      <td>26</td>\n",
       "      <td>1</td>\n",
       "      <td>Kenya</td>\n",
       "      <td>Vocational/Specialised training</td>\n",
       "      <td>1</td>\n",
       "      <td>5</td>\n",
       "      <td>Self employed</td>\n",
       "      <td>1</td>\n",
       "      <td>Single/Never Married</td>\n",
       "      <td>Other relative</td>\n",
       "    </tr>\n",
       "    <tr>\n",
       "      <th>3</th>\n",
       "      <td>34</td>\n",
       "      <td>1</td>\n",
       "      <td>Kenya</td>\n",
       "      <td>Primary education</td>\n",
       "      <td>0</td>\n",
       "      <td>5</td>\n",
       "      <td>Formally employed Private</td>\n",
       "      <td>0</td>\n",
       "      <td>Married/Living together</td>\n",
       "      <td>Head of Household</td>\n",
       "    </tr>\n",
       "    <tr>\n",
       "      <th>4</th>\n",
       "      <td>26</td>\n",
       "      <td>0</td>\n",
       "      <td>Kenya</td>\n",
       "      <td>Primary education</td>\n",
       "      <td>1</td>\n",
       "      <td>8</td>\n",
       "      <td>Informally employed</td>\n",
       "      <td>1</td>\n",
       "      <td>Single/Never Married</td>\n",
       "      <td>Child</td>\n",
       "    </tr>\n",
       "    <tr>\n",
       "      <th>...</th>\n",
       "      <td>...</td>\n",
       "      <td>...</td>\n",
       "      <td>...</td>\n",
       "      <td>...</td>\n",
       "      <td>...</td>\n",
       "      <td>...</td>\n",
       "      <td>...</td>\n",
       "      <td>...</td>\n",
       "      <td>...</td>\n",
       "      <td>...</td>\n",
       "    </tr>\n",
       "    <tr>\n",
       "      <th>23519</th>\n",
       "      <td>48</td>\n",
       "      <td>1</td>\n",
       "      <td>Uganda</td>\n",
       "      <td>No formal education</td>\n",
       "      <td>0</td>\n",
       "      <td>4</td>\n",
       "      <td>Other Income</td>\n",
       "      <td>0</td>\n",
       "      <td>Divorced/Seperated</td>\n",
       "      <td>Head of Household</td>\n",
       "    </tr>\n",
       "    <tr>\n",
       "      <th>23520</th>\n",
       "      <td>27</td>\n",
       "      <td>1</td>\n",
       "      <td>Uganda</td>\n",
       "      <td>Secondary education</td>\n",
       "      <td>0</td>\n",
       "      <td>2</td>\n",
       "      <td>Other Income</td>\n",
       "      <td>0</td>\n",
       "      <td>Single/Never Married</td>\n",
       "      <td>Head of Household</td>\n",
       "    </tr>\n",
       "    <tr>\n",
       "      <th>23521</th>\n",
       "      <td>27</td>\n",
       "      <td>1</td>\n",
       "      <td>Uganda</td>\n",
       "      <td>Primary education</td>\n",
       "      <td>0</td>\n",
       "      <td>5</td>\n",
       "      <td>Other Income</td>\n",
       "      <td>0</td>\n",
       "      <td>Widowed</td>\n",
       "      <td>Parent</td>\n",
       "    </tr>\n",
       "    <tr>\n",
       "      <th>23522</th>\n",
       "      <td>30</td>\n",
       "      <td>1</td>\n",
       "      <td>Uganda</td>\n",
       "      <td>Secondary education</td>\n",
       "      <td>0</td>\n",
       "      <td>7</td>\n",
       "      <td>Self employed</td>\n",
       "      <td>1</td>\n",
       "      <td>Divorced/Seperated</td>\n",
       "      <td>Parent</td>\n",
       "    </tr>\n",
       "    <tr>\n",
       "      <th>23523</th>\n",
       "      <td>20</td>\n",
       "      <td>1</td>\n",
       "      <td>Uganda</td>\n",
       "      <td>Secondary education</td>\n",
       "      <td>1</td>\n",
       "      <td>10</td>\n",
       "      <td>No Income</td>\n",
       "      <td>0</td>\n",
       "      <td>Single/Never Married</td>\n",
       "      <td>Child</td>\n",
       "    </tr>\n",
       "  </tbody>\n",
       "</table>\n",
       "<p>23524 rows × 10 columns</p>\n",
       "</div>"
      ],
      "text/plain": [
       "        0  1       2                                3  4   5  \\\n",
       "0      24  1   Kenya              Secondary education  0   3   \n",
       "1      70  0   Kenya              No formal education  0   5   \n",
       "2      26  1   Kenya  Vocational/Specialised training  1   5   \n",
       "3      34  1   Kenya                Primary education  0   5   \n",
       "4      26  0   Kenya                Primary education  1   8   \n",
       "...    .. ..     ...                              ... ..  ..   \n",
       "23519  48  1  Uganda              No formal education  0   4   \n",
       "23520  27  1  Uganda              Secondary education  0   2   \n",
       "23521  27  1  Uganda                Primary education  0   5   \n",
       "23522  30  1  Uganda              Secondary education  0   7   \n",
       "23523  20  1  Uganda              Secondary education  1  10   \n",
       "\n",
       "                               6  7                        8  \\\n",
       "0                  Self employed  0  Married/Living together   \n",
       "1           Government Dependent  0                  Widowed   \n",
       "2                  Self employed  1     Single/Never Married   \n",
       "3      Formally employed Private  0  Married/Living together   \n",
       "4            Informally employed  1     Single/Never Married   \n",
       "...                          ... ..                      ...   \n",
       "23519               Other Income  0       Divorced/Seperated   \n",
       "23520               Other Income  0     Single/Never Married   \n",
       "23521               Other Income  0                  Widowed   \n",
       "23522              Self employed  1       Divorced/Seperated   \n",
       "23523                  No Income  0     Single/Never Married   \n",
       "\n",
       "                       9  \n",
       "0                 Spouse  \n",
       "1      Head of Household  \n",
       "2         Other relative  \n",
       "3      Head of Household  \n",
       "4                  Child  \n",
       "...                  ...  \n",
       "23519  Head of Household  \n",
       "23520  Head of Household  \n",
       "23521             Parent  \n",
       "23522             Parent  \n",
       "23523              Child  \n",
       "\n",
       "[23524 rows x 10 columns]"
      ]
     },
     "execution_count": 67,
     "metadata": {},
     "output_type": "execute_result"
    }
   ],
   "source": [
    "pd.DataFrame(X)"
   ]
  },
  {
   "cell_type": "code",
   "execution_count": 68,
   "metadata": {
    "id": "JxDos_-qxa1n"
   },
   "outputs": [],
   "source": [
    "from sklearn.preprocessing import OneHotEncoder\n",
    "from sklearn.compose import ColumnTransformer\n",
    "\n",
    "ct = ColumnTransformer(transformers=[\n",
    "                                     ('encoder', OneHotEncoder(), [2, 3, 6, 8, 9])\n",
    "], remainder='passthrough')\n",
    "X = ct.fit_transform(X)\n",
    "# Encode test set values for testing\n",
    "test_set = ct.fit_transform(test_set.values)"
   ]
  },
  {
   "cell_type": "markdown",
   "metadata": {
    "id": "j9tFAg2i11ML"
   },
   "source": [
    "**Split X into training set and test set**"
   ]
  },
  {
   "cell_type": "code",
   "execution_count": 60,
   "metadata": {
    "id": "CeXRZsK7ysz_"
   },
   "outputs": [],
   "source": [
    "X_train, X_test, y_train, y_test = train_test_split(X, y, test_size=0.20, random_state=42)"
   ]
  },
  {
   "cell_type": "markdown",
   "metadata": {
    "id": "qg086caY3JhA"
   },
   "source": [
    "**Perform Feature Scaling**"
   ]
  },
  {
   "cell_type": "code",
   "execution_count": 61,
   "metadata": {
    "id": "NAUnQP6Q3hYL"
   },
   "outputs": [],
   "source": [
    "pipeline = Pipeline([\n",
    "    ('std_scaler', StandardScaler())\n",
    "])\n",
    "X_train = pipeline.fit_transform(X_train.toarray())\n",
    "X_test = pipeline.fit_transform(X_test.toarray())"
   ]
  },
  {
   "cell_type": "code",
   "execution_count": 62,
   "metadata": {},
   "outputs": [],
   "source": [
    "from sklearn.model_selection import learning_curve\n",
    "def randomize(X, Y):\n",
    "    permutation = np.random.permutation(Y.shape[0])\n",
    "    X2 = X[permutation,:]\n",
    "    Y2 = Y[permutation]\n",
    "    return X2, Y2\n",
    "\n",
    "X2, y2 = randomize(X, y)\n",
    "\n",
    "def draw_learning_curves(X, y, estimator, num_trainings):\n",
    "    train_sizes, train_scores, test_scores = learning_curve(\n",
    "        estimator, X2, y2, cv=None, n_jobs=-1, train_sizes=np.linspace(.1, 1.0, num_trainings))\n",
    "\n",
    "    train_scores_mean = np.mean(train_scores, axis=1)\n",
    "    train_scores_std = np.std(train_scores, axis=1)\n",
    "    test_scores_mean = np.mean(test_scores, axis=1)\n",
    "    test_scores_std = np.std(test_scores, axis=1)\n",
    "\n",
    "    plt.grid()\n",
    "\n",
    "    plt.title(\"Learning Curves\")\n",
    "    plt.xlabel(\"Training examples\")\n",
    "    plt.ylabel(\"Score\")\n",
    "\n",
    "    plt.plot(train_scores_mean, 'o-', color=\"g\",\n",
    "             label=\"Training score\")\n",
    "    plt.plot(test_scores_mean, 'o-', color=\"y\",\n",
    "             label=\"Cross-validation score\")\n",
    "\n",
    "\n",
    "    plt.legend(loc=\"best\")\n",
    "\n",
    "    plt.show()"
   ]
  },
  {
   "cell_type": "code",
   "execution_count": 63,
   "metadata": {},
   "outputs": [],
   "source": [
    "def run_model(classifier, xtrain, ytrain):\n",
    "    \n",
    "    \n",
    "    classifier.fit(xtrain, ytrain)\n",
    "\n",
    "    y_pred = classifier.predict(X_test)\n",
    "    y_pred\n",
    "    \n",
    "    print(\"MODEL: \", classifier, \"\\n\")\n",
    "    \n",
    "    # confusion matrix\n",
    "    cm = confusion_matrix(y_test, y_pred)\n",
    "    print(cm, \"\\n\")\n",
    "    \n",
    "    # Accuracy Score\n",
    "    accuracy = accuracy_score(y_test, y_pred)\n",
    "    print('Accuracy Score: %s\\n' %(accuracy * 100))\n",
    "    \n",
    "    # Cross Validation Score\n",
    "    accuracies = cross_val_score(classifier, X=X_test, y=y_test, cv=10, scoring='accuracy')\n",
    "    score = f1_score(y_test, y_pred)\n",
    "    print(\"Cross Validation Accuracy: {:.2f}\".format(accuracies.mean() * 100))\n",
    "    print(\"STD: {:.2f}\".format(accuracies.std() * 100))\n",
    "    print(\"F1_Score: {}\".format(score))\n",
    "    \n",
    "    draw_learning_curves(xtrain, ytrain, classifier, 12)"
   ]
  },
  {
   "cell_type": "code",
   "execution_count": 38,
   "metadata": {},
   "outputs": [
    {
     "name": "stdout",
     "output_type": "stream",
     "text": [
      "MODEL:  SVC(C=1, kernel='linear') \n",
      "\n",
      "[[3949  114]\n",
      " [ 481  161]] \n",
      "\n",
      "Accuracy Score: 87.35387885228481\n",
      "\n",
      "Cross Validation Accuracy: 88.20\n",
      "STD: 0.71\n",
      "F1_Score: 0.3511450381679389\n"
     ]
    },
    {
     "data": {
      "image/png": "[encoded data removed]",
      "text/plain": [
       "<Figure size 432x288 with 1 Axes>"
      ]
     },
     "metadata": {
      "needs_background": "light"
     },
     "output_type": "display_data"
    }
   ],
   "source": [
    "run_model(SVC(C=1, kernel='linear'), X_train, y_train) "
   ]
  },
  {
   "cell_type": "code",
   "execution_count": 39,
   "metadata": {
    "scrolled": false
   },
   "outputs": [
    {
     "name": "stderr",
     "output_type": "stream",
     "text": [
      "C:\\Users\\oneda\\anaconda3\\lib\\site-packages\\xgboost\\sklearn.py:1146: UserWarning: The use of label encoder in XGBClassifier is deprecated and will be removed in a future release. To remove this warning, do the following: 1) Pass option use_label_encoder=False when constructing XGBClassifier object; and 2) Encode your labels (y) as integers starting with 0, i.e. 0, 1, 2, ..., [num_class - 1].\n",
      "  warnings.warn(label_encoder_deprecation_msg, UserWarning)\n"
     ]
    },
    {
     "name": "stdout",
     "output_type": "stream",
     "text": [
      "[13:37:27] WARNING: C:/Users/Administrator/workspace/xgboost-win64_release_1.4.0/src/learner.cc:1095: Starting in XGBoost 1.3.0, the default evaluation metric used with the objective 'binary:logistic' was changed from 'error' to 'logloss'. Explicitly set eval_metric if you'd like to restore the old behavior.\n",
      "MODEL:  XGBClassifier(base_score=0.5, booster='gbtree', colsample_bylevel=1,\n",
      "              colsample_bynode=1, colsample_bytree=1, gamma=0, gpu_id=-1,\n",
      "              importance_type='gain', interaction_constraints='',\n",
      "              learning_rate=0.300000012, max_delta_step=0, max_depth=6,\n",
      "              min_child_weight=1, missing=nan, monotone_constraints='()',\n",
      "              n_estimators=100, n_jobs=8, num_parallel_tree=1, random_state=0,\n",
      "              reg_alpha=0, reg_lambda=1, scale_pos_weight=1, subsample=1,\n",
      "              tree_method='exact', validate_parameters=1, verbosity=None) \n",
      "\n",
      "[[3929  134]\n",
      " [ 395  247]] \n",
      "\n",
      "Accuracy Score: 88.75664187035069\n",
      "\n",
      "[13:37:28] WARNING: C:/Users/Administrator/workspace/xgboost-win64_release_1.4.0/src/learner.cc:1095: Starting in XGBoost 1.3.0, the default evaluation metric used with the objective 'binary:logistic' was changed from 'error' to 'logloss'. Explicitly set eval_metric if you'd like to restore the old behavior.\n"
     ]
    },
    {
     "name": "stderr",
     "output_type": "stream",
     "text": [
      "C:\\Users\\oneda\\anaconda3\\lib\\site-packages\\xgboost\\sklearn.py:1146: UserWarning: The use of label encoder in XGBClassifier is deprecated and will be removed in a future release. To remove this warning, do the following: 1) Pass option use_label_encoder=False when constructing XGBClassifier object; and 2) Encode your labels (y) as integers starting with 0, i.e. 0, 1, 2, ..., [num_class - 1].\n",
      "  warnings.warn(label_encoder_deprecation_msg, UserWarning)\n"
     ]
    },
    {
     "name": "stdout",
     "output_type": "stream",
     "text": [
      "[13:37:28] WARNING: C:/Users/Administrator/workspace/xgboost-win64_release_1.4.0/src/learner.cc:1095: Starting in XGBoost 1.3.0, the default evaluation metric used with the objective 'binary:logistic' was changed from 'error' to 'logloss'. Explicitly set eval_metric if you'd like to restore the old behavior.\n",
      "[13:37:29] WARNING: C:/Users/Administrator/workspace/xgboost-win64_release_1.4.0/src/learner.cc:1095: Starting in XGBoost 1.3.0, the default evaluation metric used with the objective 'binary:logistic' was changed from 'error' to 'logloss'. Explicitly set eval_metric if you'd like to restore the old behavior.\n",
      "[13:37:29] WARNING: C:/Users/Administrator/workspace/xgboost-win64_release_1.4.0/src/learner.cc:1095: Starting in XGBoost 1.3.0, the default evaluation metric used with the objective 'binary:logistic' was changed from 'error' to 'logloss'. Explicitly set eval_metric if you'd like to restore the old behavior.\n",
      "[13:37:30] WARNING: C:/Users/Administrator/workspace/xgboost-win64_release_1.4.0/src/learner.cc:1095: Starting in XGBoost 1.3.0, the default evaluation metric used with the objective 'binary:logistic' was changed from 'error' to 'logloss'. Explicitly set eval_metric if you'd like to restore the old behavior.\n",
      "[13:37:30] WARNING: C:/Users/Administrator/workspace/xgboost-win64_release_1.4.0/src/learner.cc:1095: Starting in XGBoost 1.3.0, the default evaluation metric used with the objective 'binary:logistic' was changed from 'error' to 'logloss'. Explicitly set eval_metric if you'd like to restore the old behavior.\n",
      "[13:37:30] WARNING: C:/Users/Administrator/workspace/xgboost-win64_release_1.4.0/src/learner.cc:1095: Starting in XGBoost 1.3.0, the default evaluation metric used with the objective 'binary:logistic' was changed from 'error' to 'logloss'. Explicitly set eval_metric if you'd like to restore the old behavior.\n",
      "[13:37:31] WARNING: C:/Users/Administrator/workspace/xgboost-win64_release_1.4.0/src/learner.cc:1095: Starting in XGBoost 1.3.0, the default evaluation metric used with the objective 'binary:logistic' was changed from 'error' to 'logloss'. Explicitly set eval_metric if you'd like to restore the old behavior.\n",
      "[13:37:31] WARNING: C:/Users/Administrator/workspace/xgboost-win64_release_1.4.0/src/learner.cc:1095: Starting in XGBoost 1.3.0, the default evaluation metric used with the objective 'binary:logistic' was changed from 'error' to 'logloss'. Explicitly set eval_metric if you'd like to restore the old behavior.\n",
      "[13:37:31] WARNING: C:/Users/Administrator/workspace/xgboost-win64_release_1.4.0/src/learner.cc:1095: Starting in XGBoost 1.3.0, the default evaluation metric used with the objective 'binary:logistic' was changed from 'error' to 'logloss'. Explicitly set eval_metric if you'd like to restore the old behavior.\n",
      "Cross Validation Accuracy: 87.84\n",
      "STD: 0.88\n",
      "F1_Score: 0.482893450635386\n"
     ]
    },
    {
     "data": {
      "image/png": "[encoded data removed]",
      "text/plain": [
       "<Figure size 432x288 with 1 Axes>"
      ]
     },
     "metadata": {
      "needs_background": "light"
     },
     "output_type": "display_data"
    }
   ],
   "source": [
    "run_model(XGBClassifier(), X_train, y_train)"
   ]
  },
  {
   "cell_type": "code",
   "execution_count": 40,
   "metadata": {},
   "outputs": [
    {
     "name": "stdout",
     "output_type": "stream",
     "text": [
      "MODEL:  LogisticRegression() \n",
      "\n",
      "[[3943  120]\n",
      " [ 415  227]] \n",
      "\n",
      "Accuracy Score: 88.62911795961743\n",
      "\n",
      "Cross Validation Accuracy: 88.74\n",
      "STD: 0.44\n",
      "F1_Score: 0.4590495449949444\n"
     ]
    },
    {
     "data": {
      "image/png": "[encoded data removed]",
      "text/plain": [
       "<Figure size 432x288 with 1 Axes>"
      ]
     },
     "metadata": {
      "needs_background": "light"
     },
     "output_type": "display_data"
    }
   ],
   "source": [
    "run_model(LogisticRegression(), X_train, y_train) "
   ]
  },
  {
   "cell_type": "code",
   "execution_count": 41,
   "metadata": {
    "scrolled": false
   },
   "outputs": [
    {
     "name": "stdout",
     "output_type": "stream",
     "text": [
      "MODEL:  DecisionTreeClassifier(criterion='entropy') \n",
      "\n",
      "[[3689  374]\n",
      " [ 383  259]] \n",
      "\n",
      "Accuracy Score: 83.91073326248672\n",
      "\n",
      "Cross Validation Accuracy: 82.83\n",
      "STD: 1.26\n",
      "F1_Score: 0.4062745098039216\n"
     ]
    },
    {
     "data": {
      "image/png": "[encoded data removed]",
      "text/plain": [
       "<Figure size 432x288 with 1 Axes>"
      ]
     },
     "metadata": {
      "needs_background": "light"
     },
     "output_type": "display_data"
    }
   ],
   "source": [
    "run_model(DecisionTreeClassifier(criterion='entropy'), X_train, y_train)"
   ]
  },
  {
   "cell_type": "code",
   "execution_count": 42,
   "metadata": {},
   "outputs": [
    {
     "name": "stdout",
     "output_type": "stream",
     "text": [
      "MODEL:  RandomForestClassifier(criterion='entropy', n_estimators=300) \n",
      "\n",
      "[[3794  269]\n",
      " [ 387  255]] \n",
      "\n",
      "Accuracy Score: 86.05738575982997\n",
      "\n",
      "Cross Validation Accuracy: 87.50\n",
      "STD: 1.27\n",
      "F1_Score: 0.43739279588336194\n"
     ]
    },
    {
     "data": {
      "image/png": "[encoded data removed]",
      "text/plain": [
       "<Figure size 432x288 with 1 Axes>"
      ]
     },
     "metadata": {
      "needs_background": "light"
     },
     "output_type": "display_data"
    }
   ],
   "source": [
    "run_model(RandomForestClassifier(n_estimators=300, criterion='entropy'), X_train, y_train)"
   ]
  },
  {
   "cell_type": "markdown",
   "metadata": {},
   "source": [
    "**Best Model: XGBClassifier**\n",
    "    "
   ]
  },
  {
   "cell_type": "code",
   "execution_count": 48,
   "metadata": {},
   "outputs": [
    {
     "name": "stderr",
     "output_type": "stream",
     "text": [
      "C:\\Users\\oneda\\anaconda3\\lib\\site-packages\\xgboost\\sklearn.py:1146: UserWarning: The use of label encoder in XGBClassifier is deprecated and will be removed in a future release. To remove this warning, do the following: 1) Pass option use_label_encoder=False when constructing XGBClassifier object; and 2) Encode your labels (y) as integers starting with 0, i.e. 0, 1, 2, ..., [num_class - 1].\n",
      "  warnings.warn(label_encoder_deprecation_msg, UserWarning)\n"
     ]
    },
    {
     "name": "stdout",
     "output_type": "stream",
     "text": [
      "[14:17:54] WARNING: C:/Users/Administrator/workspace/xgboost-win64_release_1.4.0/src/learner.cc:1095: Starting in XGBoost 1.3.0, the default evaluation metric used with the objective 'binary:logistic' was changed from 'error' to 'logloss'. Explicitly set eval_metric if you'd like to restore the old behavior.\n"
     ]
    },
    {
     "data": {
      "text/plain": [
       "{'gamma': 0, 'max_depth': 3, 'subsample': 0.6}"
      ]
     },
     "execution_count": 48,
     "metadata": {},
     "output_type": "execute_result"
    }
   ],
   "source": [
    "from sklearn.model_selection import GridSearchCV\n",
    "params = [{'max_depth': [3, 4, 5, 6, 7, 8, 9, 10], \n",
    "           'gamma': [0, 0.1, 0.2], \n",
    "           'subsample': [0.5, 0.6, 0.7, 0.8, 0.9]}]\n",
    "grid_search = GridSearchCV(estimator=classifier, param_grid=params, scoring='accuracy', cv=5, n_jobs=-1)\n",
    "grid_search.fit(X_train, y_train)\n",
    "grid_search.best_params_"
   ]
  },
  {
   "cell_type": "code",
   "execution_count": 82,
   "metadata": {},
   "outputs": [
    {
     "name": "stderr",
     "output_type": "stream",
     "text": [
      "C:\\Users\\oneda\\anaconda3\\lib\\site-packages\\xgboost\\sklearn.py:1146: UserWarning: The use of label encoder in XGBClassifier is deprecated and will be removed in a future release. To remove this warning, do the following: 1) Pass option use_label_encoder=False when constructing XGBClassifier object; and 2) Encode your labels (y) as integers starting with 0, i.e. 0, 1, 2, ..., [num_class - 1].\n",
      "  warnings.warn(label_encoder_deprecation_msg, UserWarning)\n"
     ]
    },
    {
     "name": "stdout",
     "output_type": "stream",
     "text": [
      "[14:38:05] WARNING: C:/Users/Administrator/workspace/xgboost-win64_release_1.4.0/src/learner.cc:1095: Starting in XGBoost 1.3.0, the default evaluation metric used with the objective 'binary:logistic' was changed from 'error' to 'logloss'. Explicitly set eval_metric if you'd like to restore the old behavior.\n"
     ]
    }
   ],
   "source": [
    "# fitting model with best parameters\n",
    "classifier = XGBClassifier(max_depth=3, gamma=0, subsample=0.6)\n",
    "classifier.fit(X_train, y_train)\n",
    "y_pred = classifier.predict(X_test)"
   ]
  },
  {
   "cell_type": "code",
   "execution_count": 93,
   "metadata": {},
   "outputs": [
    {
     "name": "stdout",
     "output_type": "stream",
     "text": [
      "New accuray score after parameter tuning is: 89.29\n",
      "F1_Score: 0.49\n"
     ]
    }
   ],
   "source": [
    "# check accuracy of new model\n",
    "accuracy = accuracy_score(y_test, y_pred)\n",
    "score = f1_score(y_test, y_pred)\n",
    "print(\"New accuray score after parameter tuning is: {:.2f}\".format(accuracy * 100))\n",
    "print(\"F1_Score: {:.2f}\".format(score))"
   ]
  },
  {
   "cell_type": "markdown",
   "metadata": {},
   "source": [
    "**Predicting Testing Set results with provided test set**"
   ]
  },
  {
   "cell_type": "code",
   "execution_count": 69,
   "metadata": {},
   "outputs": [],
   "source": [
    "# feature scale testing set values\n",
    "test_set = pipeline.fit_transform(test_set.toarray())"
   ]
  },
  {
   "cell_type": "code",
   "execution_count": 94,
   "metadata": {},
   "outputs": [],
   "source": [
    "y_pred_final = classifier.predict(test_set)"
   ]
  },
  {
   "cell_type": "code",
   "execution_count": 95,
   "metadata": {},
   "outputs": [
    {
     "data": {
      "text/html": [
       "<div>\n",
       "<style scoped>\n",
       "    .dataframe tbody tr th:only-of-type {\n",
       "        vertical-align: middle;\n",
       "    }\n",
       "\n",
       "    .dataframe tbody tr th {\n",
       "        vertical-align: top;\n",
       "    }\n",
       "\n",
       "    .dataframe thead th {\n",
       "        text-align: right;\n",
       "    }\n",
       "</style>\n",
       "<table border=\"1\" class=\"dataframe\">\n",
       "  <thead>\n",
       "    <tr style=\"text-align: right;\">\n",
       "      <th></th>\n",
       "      <th>uniqueid</th>\n",
       "      <th>bank_account</th>\n",
       "    </tr>\n",
       "  </thead>\n",
       "  <tbody>\n",
       "    <tr>\n",
       "      <th>0</th>\n",
       "      <td>uniqueid_7867 x Kenya</td>\n",
       "      <td>1.0</td>\n",
       "    </tr>\n",
       "    <tr>\n",
       "      <th>1</th>\n",
       "      <td>uniqueid_6722 x Kenya</td>\n",
       "      <td>0.0</td>\n",
       "    </tr>\n",
       "    <tr>\n",
       "      <th>2</th>\n",
       "      <td>uniqueid_6714 x Kenya</td>\n",
       "      <td>1.0</td>\n",
       "    </tr>\n",
       "    <tr>\n",
       "      <th>3</th>\n",
       "      <td>uniqueid_8103 x Kenya</td>\n",
       "      <td>1.0</td>\n",
       "    </tr>\n",
       "    <tr>\n",
       "      <th>4</th>\n",
       "      <td>uniqueid_8657 x Kenya</td>\n",
       "      <td>1.0</td>\n",
       "    </tr>\n",
       "    <tr>\n",
       "      <th>...</th>\n",
       "      <td>...</td>\n",
       "      <td>...</td>\n",
       "    </tr>\n",
       "    <tr>\n",
       "      <th>10081</th>\n",
       "      <td>uniqueid_2311 x Uganda</td>\n",
       "      <td>NaN</td>\n",
       "    </tr>\n",
       "    <tr>\n",
       "      <th>10082</th>\n",
       "      <td>uniqueid_2921 x Uganda</td>\n",
       "      <td>NaN</td>\n",
       "    </tr>\n",
       "    <tr>\n",
       "      <th>10083</th>\n",
       "      <td>uniqueid_2280 x Uganda</td>\n",
       "      <td>NaN</td>\n",
       "    </tr>\n",
       "    <tr>\n",
       "      <th>10084</th>\n",
       "      <td>uniqueid_2285 x Uganda</td>\n",
       "      <td>NaN</td>\n",
       "    </tr>\n",
       "    <tr>\n",
       "      <th>10085</th>\n",
       "      <td>uniqueid_2068 x Uganda</td>\n",
       "      <td>NaN</td>\n",
       "    </tr>\n",
       "  </tbody>\n",
       "</table>\n",
       "<p>10086 rows × 2 columns</p>\n",
       "</div>"
      ],
      "text/plain": [
       "                     uniqueid  bank_account\n",
       "0       uniqueid_7867 x Kenya           1.0\n",
       "1       uniqueid_6722 x Kenya           0.0\n",
       "2       uniqueid_6714 x Kenya           1.0\n",
       "3       uniqueid_8103 x Kenya           1.0\n",
       "4       uniqueid_8657 x Kenya           1.0\n",
       "...                       ...           ...\n",
       "10081  uniqueid_2311 x Uganda           NaN\n",
       "10082  uniqueid_2921 x Uganda           NaN\n",
       "10083  uniqueid_2280 x Uganda           NaN\n",
       "10084  uniqueid_2285 x Uganda           NaN\n",
       "10085  uniqueid_2068 x Uganda           NaN\n",
       "\n",
       "[10086 rows x 2 columns]"
      ]
     },
     "execution_count": 95,
     "metadata": {},
     "output_type": "execute_result"
    }
   ],
   "source": [
    "submission_df"
   ]
  },
  {
   "cell_type": "code",
   "execution_count": 121,
   "metadata": {},
   "outputs": [
    {
     "data": {
      "text/html": [
       "<div>\n",
       "<style scoped>\n",
       "    .dataframe tbody tr th:only-of-type {\n",
       "        vertical-align: middle;\n",
       "    }\n",
       "\n",
       "    .dataframe tbody tr th {\n",
       "        vertical-align: top;\n",
       "    }\n",
       "\n",
       "    .dataframe thead th {\n",
       "        text-align: right;\n",
       "    }\n",
       "</style>\n",
       "<table border=\"1\" class=\"dataframe\">\n",
       "  <thead>\n",
       "    <tr style=\"text-align: right;\">\n",
       "      <th></th>\n",
       "      <th>uniqueid</th>\n",
       "      <th>bank_account</th>\n",
       "    </tr>\n",
       "  </thead>\n",
       "  <tbody>\n",
       "    <tr>\n",
       "      <th>0</th>\n",
       "      <td>uniqueid_6056 x Kenya</td>\n",
       "      <td>1</td>\n",
       "    </tr>\n",
       "    <tr>\n",
       "      <th>1</th>\n",
       "      <td>uniqueid_6060 x Kenya</td>\n",
       "      <td>1</td>\n",
       "    </tr>\n",
       "    <tr>\n",
       "      <th>2</th>\n",
       "      <td>uniqueid_6065 x Kenya</td>\n",
       "      <td>0</td>\n",
       "    </tr>\n",
       "    <tr>\n",
       "      <th>3</th>\n",
       "      <td>uniqueid_6072 x Kenya</td>\n",
       "      <td>0</td>\n",
       "    </tr>\n",
       "    <tr>\n",
       "      <th>4</th>\n",
       "      <td>uniqueid_6073 x Kenya</td>\n",
       "      <td>0</td>\n",
       "    </tr>\n",
       "    <tr>\n",
       "      <th>...</th>\n",
       "      <td>...</td>\n",
       "      <td>...</td>\n",
       "    </tr>\n",
       "    <tr>\n",
       "      <th>10081</th>\n",
       "      <td>uniqueid_2998 x Uganda</td>\n",
       "      <td>0</td>\n",
       "    </tr>\n",
       "    <tr>\n",
       "      <th>10082</th>\n",
       "      <td>uniqueid_2999 x Uganda</td>\n",
       "      <td>0</td>\n",
       "    </tr>\n",
       "    <tr>\n",
       "      <th>10083</th>\n",
       "      <td>uniqueid_3000 x Uganda</td>\n",
       "      <td>0</td>\n",
       "    </tr>\n",
       "    <tr>\n",
       "      <th>10084</th>\n",
       "      <td>uniqueid_3001 x Uganda</td>\n",
       "      <td>0</td>\n",
       "    </tr>\n",
       "    <tr>\n",
       "      <th>10085</th>\n",
       "      <td>uniqueid_3002 x Uganda</td>\n",
       "      <td>0</td>\n",
       "    </tr>\n",
       "  </tbody>\n",
       "</table>\n",
       "<p>10086 rows × 2 columns</p>\n",
       "</div>"
      ],
      "text/plain": [
       "                     uniqueid  bank_account\n",
       "0       uniqueid_6056 x Kenya             1\n",
       "1       uniqueid_6060 x Kenya             1\n",
       "2       uniqueid_6065 x Kenya             0\n",
       "3       uniqueid_6072 x Kenya             0\n",
       "4       uniqueid_6073 x Kenya             0\n",
       "...                       ...           ...\n",
       "10081  uniqueid_2998 x Uganda             0\n",
       "10082  uniqueid_2999 x Uganda             0\n",
       "10083  uniqueid_3000 x Uganda             0\n",
       "10084  uniqueid_3001 x Uganda             0\n",
       "10085  uniqueid_3002 x Uganda             0\n",
       "\n",
       "[10086 rows x 2 columns]"
      ]
     },
     "execution_count": 121,
     "metadata": {},
     "output_type": "execute_result"
    }
   ],
   "source": [
    "pd.DataFrame(data={'uniqueid': test_df['uniqueid'] + \" x \" + test_df['country'],\n",
    "                  'bank_account': y_pred_final}).to_csv('final_submission.csv')"
   ]
  },
  {
   "cell_type": "code",
   "execution_count": null,
   "metadata": {},
   "outputs": [],
   "source": []
  }
 ],
 "metadata": {
  "colab": {
   "collapsed_sections": [],
   "name": "Financial Inclusion.ipynb",
   "provenance": []
  },
  "kernelspec": {
   "display_name": "Python 3",
   "language": "python",
   "name": "python3"
  },
  "language_info": {
   "codemirror_mode": {
    "name": "ipython",
    "version": 3
   },
   "file_extension": ".py",
   "mimetype": "text/x-python",
   "name": "python",
   "nbconvert_exporter": "python",
   "pygments_lexer": "ipython3",
   "version": "3.8.5"
  }
 },
 "nbformat": 4,
 "nbformat_minor": 4
}
